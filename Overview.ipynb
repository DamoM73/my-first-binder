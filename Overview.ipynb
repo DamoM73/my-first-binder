{
 "cells": [
  {
   "cell_type": "markdown",
   "id": "1389188e-dea7-4008-a82c-552452172cdf",
   "metadata": {
    "tags": []
   },
   "source": [
    "# <font color=darkorange>Digital Solutions</font>"
   ]
  },
  {
   "cell_type": "markdown",
   "id": "b85b9da7-b948-40d7-b2dd-f11d9baf4d4f",
   "metadata": {
    "tags": []
   },
   "source": [
    "## <font color=deepskyblue>Course Structure</font>"
   ]
  },
  {
   "cell_type": "markdown",
   "id": "2c5965a8-46ff-4e9f-a3d7-0876eb5accd3",
   "metadata": {
    "tags": []
   },
   "source": [
    "### <font color=deepskyblue>Unit 1 - Creating with code</font>\n",
    "\n",
    "In Unit 1, students will explore the creative and technical aspects of developing interactive digital solutions. They investigate algorithms, programming features and useability principles to generate small interactive solutions using programming tools and gain a practical understanding of programming features.\n",
    "\n",
    "<font color=green>*TLDR - Learn to create digital solutions using Python*</font>\n",
    "\n",
    "#### <font color=deepskyblue>1.1: Understanding digital problems</font>\n",
    "- [1.1.1 Digital Problems](Unit_1/1.1.1_Digital_Problems.ipynb)\n",
    "- [1.1.2 Computational Thinking](Unit_1/1.1.2_Computational_Thinking.ipynb)\n",
    "- [1.1.3 User Needs](Unit_1/1.1.3_User_Needs.ipynb)\n",
    "- [1.1.4 Impacts](Unit_1/1.1.4_Impacts.ipynb)\n",
    "- [1.1.5 Systems Thinking](Unit_1/1.1.5_Systems_Thinking.ipynb)\n",
    "- [1.1.6 Criteria](Unit_1/1.1.6_Criteria.ipynb)\n",
    "- [1.1.7 Exploring Existing Solutions](Unit_1/1.1.7_Exploring_Existing_Solutions.ipynb)\n",
    "- [1.1.8 Determining missing, required or unnecessary facts and information](Unit_1/1.1.8_Determining_missing_info.ipynb)\n",
    "- [1.1.9 Communication](Unit_1/1.1.9_Communication.ipynb)\n",
    "\n",
    "#### <font color=deepskyblue>1.2: User experiences and interfaces</font>\n",
    "- [1.2.1 User Experience](Unit_1/1.2.1_User_Experience.ipynb)\n",
    "- [1.2.2 Usability Principles](Unit_1/1.2.2_Usability_Principles.ipynb)\n",
    "- [1.2.3 Visual Communication](Unit_1/1.2.3_Visual_Communication.ipynb)\n",
    "- [1.2.4 User Interfaces](Unit_1/1.2.4_User_Interfaces.ipynb)\n",
    "- [1.2.5 Symbolising User Interfaces](Unit_1/1.2.5_Symbolising_User_Interfaces.ipynb)\n",
    "- [1.2.6 User Interface Tools](Unit_1/1.2.6_User_Interface_Tools.ipynb)\n",
    "\n",
    "#### <font color=deepskyblue>1.3: Algorithms and programming techniques</font>\n",
    "- [1.3.1 Syntax](Unit_1/1.3.1_Syntax.ipynb)\n",
    "- [1.3.2 Input, Process, Output](Unit_1/1.3.2_Input_Output_Process.ipynb)\n",
    "- [1.3.3 Algorithms](Unit_1/1.3.3_Algorithms.ipynb)\n",
    "- [1.3.4 Pseudocode](Unit_1/1.3.4_Pseudocode.ipynb)\n",
    "- [1.3.5 Symbolising Algorithms](Unit_1/1.3.5_symbolising_algorithms.ipynb)\n",
    "- [1.3.6 Basic Features of Programming](Unit_1/1.3.6_basic_features_of_programming.ipynb)\n",
    "- [1.3.7 Good Programming Practice](Unit_1/1.3.7_good_programming_practice.ipynb)\n",
    "- [1.3.8 Development Environment](Unit_1/1.3.8_development_environment.ipynb)\n",
    "\n",
    "#### <font color=deepskyblue>1.4: Programmed solutions</font>\n",
    "- [1.4.1 Operations](Unit_1/1.4.1_operations.ipynb)\n",
    "- [1.4.2 Generating Code](Unit_1/1.4.2_gererating_code.ipynb)\n",
    "- [1.4.3 Evaluating Code](Unit_1/1.4.3_evaluating_code.ipynb)\n",
    "- [1.4.4 Evaluating Solution](Unit_1/1.4.4_evaluating_solutions.ipynb)\n",
    "\n",
    "#### <font color=deepskyblue>Assessment instruments</font>\n",
    "- Investigation - Technical Proposal\n",
    "- Project - Digital Solution"
   ]
  },
  {
   "cell_type": "markdown",
   "id": "2c68e515-9b3a-40e4-9eee-9972dc225451",
   "metadata": {
    "jp-MarkdownHeadingCollapsed": true,
    "tags": []
   },
   "source": [
    "### <font color=deepskyblue>Unit 2 - Application and data solutions</font>\n",
    "In Unit 2, students will optimise a given database and use programming skills acquired in Unit 1 to write procedural text-based code to generate a solution that interacts with an existing database via structured query language (SQL). Students will plan, develop and generate the interface and code to enable the user to insert, update, retrieve and delete data using an existing database via SQL. Prior to inserting the data, the system will validate the data being entered to ensure its integrity and reliability for use and storage. Retrieved data will be displayed to the user in an appropriate format, such as text or a symbolic visual form.\n",
    "\n",
    "<font color=green>*TLDR - Learn to work with data in databases*</font>\n",
    "\n",
    "#### <font color=deepskyblue>2.1: Data-driven problems and solution requirements</font>\n",
    "\n",
    "\n",
    "#### <font color=deepskyblue>2.2: Data and programming techniques</font>\n",
    "\n",
    "\n",
    "#### <font color=deepskyblue>2.3: Prototype data solutions</font>\n",
    "\n",
    "#### <font color=deepskyblue>Assessment instruments</font>\n",
    "- Project - Folio\n",
    "- Exam"
   ]
  },
  {
   "cell_type": "markdown",
   "id": "da31e852-1290-4c4d-88f9-b516cd3ca7c0",
   "metadata": {
    "jp-MarkdownHeadingCollapsed": true,
    "tags": []
   },
   "source": [
    "### <font color=deepskyblue>Unit 3 - Digital innovation</font>\n",
    "In Unit 3, students analyse the requirements of particular groups of people, and use knowledge and skills of problem-solving, computational, design and systems thinking. They will determine data requirements and use available resources to create prototyped digital solutions by programming and developing user interfaces to improve user experiences. \n",
    "\n",
    "<font color=green>*TLDR - Use programming knowledge from Unit 1 and database knowledge from Unit 2 to create digital solutions*</font>\n",
    "\n",
    "#### <font color=deepskyblue>3.1: Interactions between users, data and digital systems</font>\n",
    "\n",
    "\n",
    "#### <font color=deepskyblue>3.2: Real-world problems and solution requirements</font>\n",
    "\n",
    "\n",
    "#### <font color=deepskyblue>3.3: Innovative digital solutions</font>\n",
    "\n",
    "#### <font color=deepskyblue>Assessment instruments</font>\n",
    "- Investigation - Technical Proposal (20%)\n",
    "- Project - Digital Solution (30%)"
   ]
  },
  {
   "cell_type": "markdown",
   "id": "de3cff8d-17db-4c2f-8773-bde760818430",
   "metadata": {
    "jp-MarkdownHeadingCollapsed": true,
    "tags": []
   },
   "source": [
    "### <font color=deepskyblue>Unit 4 - Digital impacts</font>\n",
    "In Unit 4, students learn how data is shared in both local and global contexts, particularly how digital solutions are increasingly required to exchange data securely and efficiently. Students will understand elements of cybersecurity by exploring the conditions, environment and methods for enabling data to flow between different digital systems. They will analyse data privacy and data integrity risks associated with transferring data between applications and evaluate the personal, social and economic impacts associated with the use and availability of both public and private data. Students will develop an application that simulates the exchange of data between two applications.\n",
    "\n",
    "<font color=green>*TLDR - Learn how store and transfer data securely*</font>\n",
    "\n",
    "#### <font color=deepskyblue>4.1: Digital methods for exchanging data</font>\n",
    "\n",
    "\n",
    "#### <font color=deepskyblue>4.2: Complex digital data exchange problems and solution requirements</font>\n",
    "\n",
    "\n",
    "#### <font color=deepskyblue>4.3: Prototype digital data exchanges</font>\n",
    "\n",
    "\n",
    "#### <font color=deepskyblue>Assessment instruments</font>\n",
    "- Project - Folio (25%)\n",
    "- External Exam (25%)"
   ]
  },
  {
   "cell_type": "markdown",
   "id": "342ea4c3-4bb8-4b9c-b9cf-6d349fad355a",
   "metadata": {
    "tags": []
   },
   "source": [
    "## <font color=deepskyblue>The problem-solving process in Digital Solutions</font>\n",
    "\n",
    "The problem-solving process in Digital Solutions is analytical and technical in nature. The process is iterative, proceeds through a number of phases, requiring students to explore problems, develop ideas, generate components and digital solutions, and evaluate personal, social and economic impacts, components and digital solutions.\n",
    "\n",
    "![Problem-solving process in Digital Solutions](assets/EDGE.png)\n",
    "\n",
    "### <font color=deepskyblue>Explore</font>\n",
    "\n",
    "The explore phase involves students investigating a need, want or opportunity to analyse and understand a digital problem and its relationship to existing solutions.\n",
    "\n",
    "To explore the problem, students:\n",
    "- describe problems from a user perspective\n",
    "- recognise constraints\n",
    "- use decomposition to dissect problems and existing solutions to similar problems\n",
    "- use abstraction and pattern recognition to identify essential features of elements, components, relationships and structures of problems\n",
    "- analyse problems, solutions and information to make decisions about the reasonableness of information and the structure, availability and accuracy of existing problems and solutions\n",
    "- use systems thinking to identify and understand the relationships between users, solutions and the components of solutions in similar problems\n",
    "- identify and understand possible solution requirements, such as information, skills and tools, by considering elements, components and features, and their relationship to the structure of the problem\n",
    "- use design, systems and computational (decomposition, pattern recognition and abstraction) thinking processes to determine evaluation criteria that are used to appraise and make decisions throughout, and at the end of, the problem-solving process in Digital Solutions. Evaluation criteria are prescribed by the teacher or client (prescribed criteria) or determined by the student (self-determined criteria) and must include criteria to evaluate the personal, social and economic impacts, and quality, appropriateness and effectiveness of the developed component or solution\n",
    "- use design thinking to evaluate ideas that best meet the evaluation criteria.\n",
    "\n",
    "### <font color=deepskyblue>Develop</font>\n",
    "\n",
    "The develop phase involves students creating new understanding and identifying possible solutions using design, systems, and abstraction and algorithmic computational thinking processes. Students evaluate personal, social and economic impacts, components and digital solutions against criteria throughout the develop phase to make decisions and refine the user experience and technical operation of components of the solution.\n",
    "\n",
    "To develop ideas, students:\n",
    "- use design thinking to visualise ideas and synthesise information and ideas in response to a digital problem by using drawing and creative skills to represent and communicate ideas\n",
    "- acquire required information, tools and skills to implement a solution plan\n",
    "- use computational thinking to apply abstraction procedures to problem components\n",
    "- use computational thinking to express algorithms\n",
    "- use systems and design thinking to develop ideas about components and solutions to test conceptual models\n",
    "- use systems and design thinking to generate creative ideas, identify a solution and evaluate ideas that best meet the criteria for success.\n",
    "\n",
    "### <font color=deepskyblue>Generate</font>\n",
    "\n",
    "The generate phase involves students using information, software, programming tools and skills, and systems and design thinking processes to create components of an identified digital solution. Students evaluate personal, social and economic impacts, components and digital solutions against criteria throughout the generate phase to make decisions and refine the user experience and technical operation of components of the solution.\n",
    "\n",
    "To generate solutions, students:\n",
    "- use design and systems thinking processes to synthesise acquired information, ideas and skills to\n",
    "- generate individual components of a preferred solution\n",
    "- generate and refine a preferred solution in response to new or existing information\n",
    "- use design thinking to evaluate and respond to the results of alpha testing\n",
    "- use systems and design thinking to construct a solution and communicate knowledge and understanding of the solution.\n",
    "\n",
    "### <font color=deepskyblue>Evaluate and refine</font>\n",
    "When students evaluate, they use systems, design and computational thinking to appraise personal, social and economic impacts, components and digital solutions by weighing up or assessing strengths, implications and limitations against prescribed and self-determined criteria. When students refine ideas and a digital solution, they make partial or minor changes based on selected criteria to improve the user experience and technical operation. Evaluation occurs throughout each phase of the problem-solving process in Digital Solutions in order to refine the components and a solution in response to the prescribed and self-determined criteria.\n",
    "\n",
    "To evaluate and refine, students:\n",
    "- use pattern recognition to compare behaviours, e.g. usage and system, and outcomes of alternative solutions\n",
    "- appraise test data and errors\n",
    "- use design thinking to evaluate components and the digital solution against prescribed and self-determined criteria\n",
    "- make changes in response to continual testing and appraisal of components and digital solutions\n",
    "- make justified recommendations about inputs and the digital solution with supporting evidence."
   ]
  },
  {
   "cell_type": "code",
   "execution_count": null,
   "id": "dbd8a4bc-c10b-492e-bbec-f498898c9905",
   "metadata": {},
   "outputs": [],
   "source": []
  }
 ],
 "metadata": {
  "kernelspec": {
   "display_name": "Python 3 (ipykernel)",
   "language": "python",
   "name": "python3"
  },
  "language_info": {
   "codemirror_mode": {
    "name": "ipython",
    "version": 3
   },
   "file_extension": ".py",
   "mimetype": "text/x-python",
   "name": "python",
   "nbconvert_exporter": "python",
   "pygments_lexer": "ipython3",
   "version": "3.10.1"
  }
 },
 "nbformat": 4,
 "nbformat_minor": 5
}
